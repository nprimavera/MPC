{
  "cells": [
    {
      "cell_type": "markdown",
      "metadata": {
        "id": "view-in-github",
        "colab_type": "text"
      },
      "source": [
        "<a href=\"https://colab.research.google.com/github/nprimavera/MPC/blob/main/Project3_V7.ipynb\" target=\"_parent\"><img src=\"https://colab.research.google.com/assets/colab-badge.svg\" alt=\"Open In Colab\"/></a>"
      ]
    },
    {
      "cell_type": "markdown",
      "source": [
        "# **MECS6616 Spring 2025 - Project 3**"
      ],
      "metadata": {
        "id": "zo35PAC_CD9O"
      }
    },
    {
      "cell_type": "markdown",
      "metadata": {
        "id": "B3yx4xOgKm_l"
      },
      "source": [
        "# **Introduction**\n",
        "\n",
        "***IMPORTANT:***\n",
        "- **Before starting, make sure to read the [Assignment Instructions](https://courseworks2.columbia.edu/courses/215046/pages/assignment-instructions) page on Courseworks to understand the workflow and submission requirements for this project.**\n",
        "\n",
        "**FOR PROJECT 3!!!**\n",
        "- Apart from the link to your notebook, you are also required to submit your collected data `.pkl` files and your chosen model checkpoint `.pth` files to Coursework. You will have two files each for parts 2 and 3 for a total of 4 files.\n",
        "- Your part 2 files should be named `data_pt2.pkl` and `dynamics_pt2.pth`.\n",
        "- Your part 3 files should be named `data_pt3.pkl` and `dynamics_pt3.pth`.\n",
        "- You should put the link to your notebook in the \"Comment\" section of your submission."
      ]
    },
    {
      "cell_type": "markdown",
      "metadata": {
        "id": "jCleXWNaK8ef"
      },
      "source": [
        "## **Project Setup (do NOT change)**\n",
        "\n",
        "***IMPORTANT:***\n",
        "- Do NOT change this \"*Project Setup*\" section\n",
        "- Do NOT install any other dependencies or a different version of an already provided package. You may, however, import other packages\n"
      ]
    },
    {
      "cell_type": "code",
      "source": [
        "# DO NOT CHANGE\n",
        "\n",
        "# After running this cell, the folder 'mecs6616_sp25_project3' will show up in the file explorer on the left (click on the folder icon if it's not open)\n",
        "# It may take a few seconds to appear\n",
        "!git clone https://github.com/roamlab/mecs6616_sp25_project3.git"
      ],
      "metadata": {
        "id": "V0KIvrmUtT8s",
        "colab": {
          "base_uri": "https://localhost:8080/"
        },
        "outputId": "83013c99-9db3-42d5-97cd-d1a2b8043770"
      },
      "execution_count": 2,
      "outputs": [
        {
          "output_type": "stream",
          "name": "stdout",
          "text": [
            "Cloning into 'mecs6616_sp25_project3'...\n",
            "remote: Enumerating objects: 30, done.\u001b[K\n",
            "remote: Counting objects: 100% (30/30), done.\u001b[K\n",
            "remote: Compressing objects: 100% (27/27), done.\u001b[K\n",
            "remote: Total 30 (delta 7), reused 0 (delta 0), pack-reused 0 (from 0)\u001b[K\n",
            "Receiving objects: 100% (30/30), 49.76 KiB | 961.00 KiB/s, done.\n",
            "Resolving deltas: 100% (7/7), done.\n"
          ]
        }
      ]
    },
    {
      "cell_type": "code",
      "source": [
        "# DO NOT CHANGE\n",
        "\n",
        "# move all needed files into the working directory. This is simply to make accessing files easier\n",
        "!mv /content/mecs6616_sp25_project3/* /content/"
      ],
      "metadata": {
        "id": "KVOBvh6GvAgP"
      },
      "execution_count": 3,
      "outputs": []
    },
    {
      "cell_type": "code",
      "execution_count": 4,
      "metadata": {
        "id": "j8Cj2R4NyzSg",
        "colab": {
          "base_uri": "https://localhost:8080/"
        },
        "outputId": "a44d64d3-74f2-4cd8-9650-5f433dad2701"
      },
      "outputs": [
        {
          "output_type": "stream",
          "name": "stdout",
          "text": [
            "Collecting ray\n",
            "  Downloading ray-2.44.0-cp311-cp311-manylinux2014_x86_64.whl.metadata (19 kB)\n",
            "Requirement already satisfied: click>=7.0 in /usr/local/lib/python3.11/dist-packages (from ray) (8.1.8)\n",
            "Requirement already satisfied: filelock in /usr/local/lib/python3.11/dist-packages (from ray) (3.18.0)\n",
            "Requirement already satisfied: jsonschema in /usr/local/lib/python3.11/dist-packages (from ray) (4.23.0)\n",
            "Requirement already satisfied: msgpack<2.0.0,>=1.0.0 in /usr/local/lib/python3.11/dist-packages (from ray) (1.1.0)\n",
            "Requirement already satisfied: packaging in /usr/local/lib/python3.11/dist-packages (from ray) (24.2)\n",
            "Requirement already satisfied: protobuf!=3.19.5,>=3.15.3 in /usr/local/lib/python3.11/dist-packages (from ray) (5.29.4)\n",
            "Requirement already satisfied: pyyaml in /usr/local/lib/python3.11/dist-packages (from ray) (6.0.2)\n",
            "Requirement already satisfied: aiosignal in /usr/local/lib/python3.11/dist-packages (from ray) (1.3.2)\n",
            "Requirement already satisfied: frozenlist in /usr/local/lib/python3.11/dist-packages (from ray) (1.5.0)\n",
            "Requirement already satisfied: requests in /usr/local/lib/python3.11/dist-packages (from ray) (2.32.3)\n",
            "Requirement already satisfied: attrs>=22.2.0 in /usr/local/lib/python3.11/dist-packages (from jsonschema->ray) (25.3.0)\n",
            "Requirement already satisfied: jsonschema-specifications>=2023.03.6 in /usr/local/lib/python3.11/dist-packages (from jsonschema->ray) (2024.10.1)\n",
            "Requirement already satisfied: referencing>=0.28.4 in /usr/local/lib/python3.11/dist-packages (from jsonschema->ray) (0.36.2)\n",
            "Requirement already satisfied: rpds-py>=0.7.1 in /usr/local/lib/python3.11/dist-packages (from jsonschema->ray) (0.23.1)\n",
            "Requirement already satisfied: charset-normalizer<4,>=2 in /usr/local/lib/python3.11/dist-packages (from requests->ray) (3.4.1)\n",
            "Requirement already satisfied: idna<4,>=2.5 in /usr/local/lib/python3.11/dist-packages (from requests->ray) (3.10)\n",
            "Requirement already satisfied: urllib3<3,>=1.21.1 in /usr/local/lib/python3.11/dist-packages (from requests->ray) (2.3.0)\n",
            "Requirement already satisfied: certifi>=2017.4.17 in /usr/local/lib/python3.11/dist-packages (from requests->ray) (2025.1.31)\n",
            "Requirement already satisfied: typing-extensions>=4.4.0 in /usr/local/lib/python3.11/dist-packages (from referencing>=0.28.4->jsonschema->ray) (4.12.2)\n",
            "Downloading ray-2.44.0-cp311-cp311-manylinux2014_x86_64.whl (68.1 MB)\n",
            "\u001b[2K   \u001b[90m━━━━━━━━━━━━━━━━━━━━━━━━━━━━━━━━━━━━━━━━\u001b[0m \u001b[32m68.1/68.1 MB\u001b[0m \u001b[31m14.3 MB/s\u001b[0m eta \u001b[36m0:00:00\u001b[0m\n",
            "\u001b[?25hInstalling collected packages: ray\n",
            "Successfully installed ray-2.44.0\n"
          ]
        }
      ],
      "source": [
        "# Using ray for data collection is optional\n",
        "!pip install ray"
      ]
    },
    {
      "cell_type": "markdown",
      "metadata": {
        "id": "tIoNAwGQpHfH"
      },
      "source": [
        "# Starter Code Explanation"
      ]
    },
    {
      "cell_type": "markdown",
      "source": [
        "This project uses a simulated robot provided by the `Robot` class in `robot.py` file. Each robot is initialized with a corresponding forward dynamics (the base class for forward dynamics definition is in `arm_dynamic_base.py`). The arm_teacher is initialized with the provided ground truth forward dynamics, as defined in `arm_dynamics_teacher.py`. You are welcome to look in-depth into this file to understand how the ground truth forward dynamics is computed for an arm, given its number of links, link mass, and viscous friction of the environment - this is recommended but not necessary to successfully complete this assignment.\n",
        "\n",
        "The Robot class inside `robot.py` which provides the interface for controlling the robot arm i.e it provides you with some functions to set/get the state and set the action for the arm and take a step using the `Robot.advance()` method. The state of the arm is a 2n-dimensional vector: n joint positions [rad] + n joint velocities [rad/s] and the action is defined as the n torques (in N-m) applied to n joints respectively.\n",
        "\n",
        "In addition to `arm_dynamics_teacher.py` which contains the ground truth forward dynamics, you will use `arm_dynamics_student.py`, the student dynamics which internally uses a neural network model."
      ],
      "metadata": {
        "id": "gVWYjvF7wAs1"
      }
    },
    {
      "cell_type": "markdown",
      "metadata": {
        "id": "AfEtTP6Gob6m"
      },
      "source": [
        "# Part 1: Implement Model Predictive Control"
      ]
    },
    {
      "cell_type": "markdown",
      "source": [
        "\n",
        "\n",
        "You will implement this controller by completing the MPC class. Specifically, you will implement the compute_action() method by following the algorithm discussed in the lecture. As with previous projects you are free to implement additional methods as needed or change the initialization if need be. While scoring your controller, you will be creating an instance of the MPC class and passing it to the scoring function so ensure that the arguments to the compute_action method remain the same.\n",
        "\n",
        "Although you do not need to understand how the ArmDynamicsTeacher class works, you could use the compute_fk() method from the class. This will allow you to convert from the state value (represented as array of shape (2*n, 1) where n is num_links) to final end effector position (x, y position of the end effector). Similary we can also compute the velocity of the end effector with the code below:\n",
        "```\n",
        "pos_ee = dynamics.compute_fk(state)\n",
        "vel_ee = dynamics.compute_vel_ee(state)\n",
        "```\n"
      ],
      "metadata": {
        "id": "hyjeF7RNvkgx"
      }
    },
    {
      "cell_type": "code",
      "execution_count": 151,
      "metadata": {
        "id": "dgR69Xg9RsOT"
      },
      "outputs": [],
      "source": [
        "\"\"\"\n",
        "Forward Models:  x_k+1 = f(x_k, u_k)\n",
        "    - x_k - state of the system at time step k\n",
        "    - u_k - action/command given to the robot at time step k\n",
        "    - x_k+1 - state of the system at the next time step, k+1\n",
        "    - using discretized time - size of time step Δt not explicitly part of forward model, but often very important\n",
        "    - Long Rollouts\n",
        "      - forward model that only predicts the next time step can still be used to look arbitrarily far into the future (if actions are given)\n",
        "      - errors quickly start compounding and the model diverges\n",
        "\n",
        "State - everything that \"characterizes\" your system\n",
        "\n",
        "Markovian property - state vector at current time step has everything you need to know about previous state vectors\n",
        "\n",
        "Kinematic Chain Dynamics:\n",
        "    - Torque-controlled dynamic robot arm\n",
        "        - x_k = (q, q_dot) - vectors of joint positions and velocities\n",
        "        - u_k = u - vector of applied joint torques\n",
        "        - x_k+1 = ?\n",
        "    - None of these are explicitly included in the state\n",
        "      - link masses\n",
        "      - inertial tensors\n",
        "      - externally applied forces (gravity)\n",
        "      - obstacles\n",
        "    - Transient contact makes analytical models of dynamics incredibly difficult\n",
        "      - linear law like F=ma no longer tells the full story since\n",
        "        - reaction forces are non-linear in relative object positions\n",
        "        - friction forces are non-linear in relative object velocity\n",
        "      - drastic changes (i.e. new contact) can occur in the middle of a time step\n",
        "        - must be handled in non-physical ways\n",
        "      - states that look very similar can be have drasticallty different\n",
        "\n",
        "Remember: analytical model of kinematic chains as ground truth\n",
        "    ● Step 1: solve for joint accelerations q\n",
        "      ○ Newton’s method: f = ma (for both forces and torques)\n",
        "      ○ Additional constraints ensure the arm is not coming apart\n",
        "      ○ Ends up as a big linear system of equations that you can solve for q\n",
        "    ● Step 2: numerical integration\n",
        "      ○ Exact:\n",
        "        ■ q_dot_k+1 = q_dot_k + ∫q_dot_dot(t)dt\n",
        "        ■ q_k+1 = q_k + ∫q_dot(t)dt\n",
        "      ○ Euler integration (linear!):\n",
        "        ■ q_dot_k+1 =q_dot_k +q_dot_dot_k * Δt\n",
        "        ■ q_k+1 = q_k + q_dot_k * Δt + 0.5 * q_dot_dot_k * Δt^2\n",
        "      ○ Much better schemes: Runge-Kutta, etc.\n",
        "\n",
        "Use your \"domain knowledge\" to inform the architecture of your model --> we know how dynamics work\n",
        "\n",
        "Overfit what the robot will need to do\n",
        "\"\"\"\n",
        "\n",
        "import numpy as np\n",
        "from collections import defaultdict\n",
        "\n",
        "class MPC:\n",
        "\n",
        "    def __init__(self, dynamics, state):\n",
        "        self.control_horizon = 10  # Define control horizon\n",
        "        self.num_links = dynamics.get_num_links()\n",
        "        #self.action = np.zeros((dynamics.get_action_dim(), 1))   # should be (3, 1)\n",
        "        #self.best_action = np.zeros((self.num_links, 1))  # (3, 1) same as action shape\n",
        "        #self.best_cost = np.inf\n",
        "        self.initial_state = np.array(state)\n",
        "        self.constant_step = 0.005  # remains constant\n",
        "        self.current_step = 0.005   # changes dynamically\n",
        "        self.position_weight = 2.07 # constant position weight\n",
        "        self.velocity_weight = 0.8  # constant velocity weight\n",
        "\n",
        "    def dynamic_step(self, distance_to_goal, current_velocity):\n",
        "        \"\"\"\n",
        "        Adjust step size based on distance & velocity dynamically\n",
        "          - start from 1\n",
        "          - add (0.5 * dist_to_goal) --> the farther the goal, the larger the adjustment\n",
        "          - add (0.5 * np.linalg.norm(current_velocity)) --> the higher the velocity, the larger the adjustment\n",
        "          - computes the new step size based on the sum of the two adjustments and ensures it doesn't go below 0.001\n",
        "        \"\"\"\n",
        "        #scale_factor = 1 + 0.5 * distance_to_goal + 0.5 * np.linalg.norm(current_velocity)\n",
        "        scale_factor = min(1 + 0.5 * distance_to_goal + 0.5 * np.linalg.norm(current_velocity), 10) # clipped to avoid very small step sizes\n",
        "        new_step = max(self.constant_step / scale_factor, 0.001)\n",
        "        return new_step\n",
        "\n",
        "    def dynamic_weight(self, distance_to_goal, current_velocity):\n",
        "        \"\"\"\n",
        "        Adjust position & velocity weights dynamically\n",
        "          - use a sigmoid function (returns b/w 0 and 1) to smoothly adjust position weight based on distance to goal\n",
        "          - (2 / (1 + np.exp(-distance_to_goal)) - 1) maps the weight adjustment between -1 and 1\n",
        "          - the further the goal, the higher the weight\n",
        "          - takes the magnitude (norm) of the current velocity\n",
        "          - caps the velocity at 1\n",
        "          - weight increases as the velocity increases\n",
        "        \"\"\"\n",
        "        updated_position_weight = self.position_weight * (2 / (1 + np.exp(-distance_to_goal)) - 1)\n",
        "        #updated_position_weight = self.position_weight * (1 + np.tanh(distance_to_goal))\n",
        "        updated_velocity_weight = self.velocity_weight * (1 + min(np.linalg.norm(current_velocity), 1))\n",
        "        return updated_position_weight, updated_velocity_weight\n",
        "\n",
        "    def arm_dynamics(self, dynamics):\n",
        "        # Available functions in arm_dynamics_teacher\n",
        "        print(\"\\nFunctions in dynamics_teacher:\")\n",
        "        print(dir(dynamics))\n",
        "        #print(dir(dynamics_teacher))\n",
        "\n",
        "        # Index of the force in the list of variables - each link has two forces\n",
        "        idx_f = dynamics.idx_f(0)\n",
        "        print(f\"\\nIndex of the force in the list of variables - each link has two forces (idx_f): {idx_f}\")\n",
        "\n",
        "        # Returns the index of acceleration for a link\n",
        "        idx_a = dynamics.idx_a(0)\n",
        "        print(f\"Returns the index of acceleration for a link (idx_a): {idx_a}\")\n",
        "\n",
        "        # Returns the index of angular acceleration for a link\n",
        "        idx_omdot = dynamics.idx_omdot(0)\n",
        "        print(f\"Index of angular acceleration for a link (idx_omdot): {idx_omdot}\")\n",
        "\n",
        "        # Total number of variables: position, velocity, angular velocity, forces, acceleration, torques\n",
        "        num_vars = dynamics.num_var()\n",
        "        print(f\"Total number of variables (num_vars): {num_vars}\")\n",
        "\n",
        "    def initial(self, dynamics, state, goal):\n",
        "        # Initial variables for action sequence\n",
        "        print(f\"\\nInitial action (should be zero): {self.action.reshape(-1)}\") # error handling\n",
        "        print(f\"Number of links: {self.num_links}\")\n",
        "        print(f\"Best cost (initially): {self.best_cost}\")\n",
        "        print(f\"Best action (initially): {self.best_action.reshape(-1)}\")\n",
        "\n",
        "        # Initial State\n",
        "        print(f\"Initial State: {self.initial_state.reshape(-1)}\")\n",
        "\n",
        "        # Initial End-Effector position and velocity\n",
        "        pos_ee = dynamics.compute_fk(self.initial_state)  # Get end effector position\n",
        "        vel_ee = dynamics.compute_vel_ee(self.initial_state)  # Get velocity of end effector\n",
        "        print(f\"Initial End-Effector position: {pos_ee.reshape(-1)}, Initial End-Effector velocity: {vel_ee.reshape(-1)}\")\n",
        "        print(f\"Goal: {goal.reshape(-1)}\")\n",
        "\n",
        "        # Initial deviation from Goal\n",
        "        distance_to_goal = np.linalg.norm(goal - pos_ee)  # Compute distance to goal\n",
        "        velocity_of_ee = np.linalg.norm(vel_ee)  # Compute velocity of end effector\n",
        "        print(f\"\\nInitial distance to goal: {distance_to_goal}, Initial velocity: {velocity_of_ee}\")\n",
        "\n",
        "    def forward_model(self, dynamics, state, goal, action):\n",
        "\n",
        "        # Current state\n",
        "        #self.state = state\n",
        "\n",
        "        # Forward simulation of next state to get the dynamics of the system using Euler integration method (dynamics_step)\n",
        "        \"\"\"\n",
        "        def advance(self, state, action):\n",
        "            #Forward simulation to compute new state given state and action\n",
        "            start_time = time.time()\n",
        "            dt = self.dt\n",
        "            new_state = self.dynamics_step(state, action, dt)\n",
        "            self.cpu_time_consumed += time.time() - start_time\n",
        "            return new_state\n",
        "        \"\"\"\n",
        "        next_state = dynamics.advance(state, action)  # predict next state using system dynamics\n",
        "        #next_state = dynamics.step(state, action)\n",
        "\n",
        "        # Compute position and velocity of end-effector at next state\n",
        "        pos_ee = dynamics.compute_fk(next_state)[:2, :]\n",
        "        vel_ee = dynamics.compute_vel_ee(next_state)[:2, :]\n",
        "\n",
        "        # Dynamically adjust steps and weights\n",
        "        distance_to_goal = np.linalg.norm(goal - pos_ee)\n",
        "        self.current_step = self.dynamic_step(distance_to_goal, vel_ee)\n",
        "        self.dynamic_position_weight, self.dynamic_velocity_weight = self.dynamic_weight(distance_to_goal, vel_ee)\n",
        "\n",
        "        return next_state, pos_ee, vel_ee\n",
        "\n",
        "    def cost_function(self, pos_ee, goal, vel_ee, action):\n",
        "\n",
        "        \"\"\"Quadratic Cost function: J = SUM_(i=k)^(N-1) α*||x_d - x_i||^2 + β*||u_i||^2\"\"\"\n",
        "\n",
        "        # Position error term:  α * ||x_d - x_i||^2\n",
        "        position_error = np.linalg.norm(pos_ee - goal) ** 2  # calculates the squared Euclidean distance b/w the current end-effector position and the goal\n",
        "        #position_error = np.sum((pos_ee - goal) ** 2)\n",
        "\n",
        "        # Velocity term:  β * ||u_i||^2\n",
        "        velocity_error = np.linalg.norm(vel_ee) ** 2  # calculates the squared norm of the control action\n",
        "        #velocity_error = np.sum(vel_ee ** 2)\n",
        "\n",
        "        # Cost function\n",
        "        #alpha=1.0 # position weight\n",
        "        #eta=0.1  # velocity weight\n",
        "        #cost = alpha * position_error + beta * control_effort\n",
        "        cost_function = position_error * self.dynamic_position_weight + velocity_error * self.dynamic_velocity_weight\n",
        "\n",
        "        #if cost_function < best_cost:\n",
        "            #best_cost = cost_function\n",
        "            #self.best_action = self.action.copy()\n",
        "        return cost_function\n",
        "\n",
        "    def compute_best_action(self, action, dynamics, goal, pos_ee, vel_ee):\n",
        "\n",
        "        # Compute how far the end-effector is from the goal\n",
        "        ee_dist_to_goal = pos_ee - goal  # vector\n",
        "        #ee_dist_to_goal = ee_dist_to_goal.flatten()  # flatten the vector into a 1D array\n",
        "        ee_dist_to_goal = np.squeeze(ee_dist_to_goal)  # Ensure it's 1D\n",
        "\n",
        "        # Ensure `ee_dist_to_goal` has correct shape for `num_links`\n",
        "        if self.num_links == 1:\n",
        "            ee_dist_to_goal = np.array([ee_dist_to_goal[0]])  # Use only first element\n",
        "\n",
        "        print(f\"Shapes - goal: {goal.shape}, pos_ee: {pos_ee.shape}, ee_dist_to_goal: {ee_dist_to_goal.shape}\")\n",
        "\n",
        "        # Initialize new action vector\n",
        "        #new_action = self.action  # zeros to start - will store corrections based on ee_dist_to_goal\n",
        "        new_action = np.zeros((self.num_links, 1))\n",
        "        #new_action = np.zeros_like(action)\n",
        "\n",
        "        # Map end-effector error to each joint action\n",
        "        for i in range(self.num_links):\n",
        "            correction = -self.current_step * ee_dist_to_goal#[i % len(ee_dist_to_goal)]\n",
        "            new_action[i, 0] = correction\n",
        "            #new_action[i, 0] = -ee_dist_to_goal[i % 2] * self.current_step\n",
        "\n",
        "        #action += new_action\n",
        "        updated_action = action + new_action\n",
        "\n",
        "        print(f\"Action shape: {action.shape}, New action shape: {new_action.shape}\")\n",
        "        print(f\"Updated Action: {updated_action.reshape(-1)}\")\n",
        "\n",
        "        return updated_action\n",
        "        #return self.action\n",
        "        #return new_action\n",
        "\n",
        "    def compute_action(self, dynamics, state, goal, action):\n",
        "        \"\"\"\n",
        "        Computes the optimal action using Model Predictive Control (MPC).\n",
        "            - dynamics: ArmDynamicsTeacher instance\n",
        "            - state: Current state of the system\n",
        "            - goal: Desired goal state\n",
        "            - action: Initial action guess\n",
        "            - return: Optimal action array of shape (num_links, 1)  -  (3, 1)\n",
        "\n",
        "        Forward Model Architecture:\n",
        "            - feed forward the state (position, velocity) and action into the MLP\n",
        "            - MLP outputs the acceleration\n",
        "            - use Euler integration to get you new state (new position, new velocity)\n",
        "            - compare to the ground truth (loss function)\n",
        "\n",
        "        Must return an array of shape (num_links, 1) - Action shape --> should be (3,1) since there are 3 links\n",
        "        \"\"\"\n",
        "\n",
        "        # Information about robot arm\n",
        "        #self.arm_dynamics(dynamics)  # prints values\n",
        "\n",
        "        # Initial values\n",
        "        #self.initial(dynamics, state, goal)  # prints values\n",
        "\n",
        "        # Initialize values for best action (3, 1)\n",
        "        #action = np.zeros((dynamics.get_action_dim(), 1))   # should be (3, 1)\n",
        "        best_action = np.zeros((self.num_links, 1))  # (3, 1) same as action shape\n",
        "        best_cost = np.inf  # Initialize best cost to infinity\n",
        "\n",
        "        # Initialize state to avoid overwriting input state\n",
        "        #updated_state = np.array(state, dtype=np.float64)\n",
        "        #print(f\"\\nUpdated state: {updated_state.reshape(-1)}\")\n",
        "\n",
        "        # Iterate through the control horizon - \"roll out\"\n",
        "        for _ in range(self.control_horizon):\n",
        "\n",
        "            # Solve for (1) joint accelerations and (2) Euler integration\n",
        "            #self.forward_model(dynamics, state, goal, action)\n",
        "            #next_state, pos_ee, vel_ee = self.forward_model(dynamics, updated_state, goal, action)  # forward model to predict next state\n",
        "            next_state, pos_ee, vel_ee = self.forward_model(dynamics, state, goal, action)  # forward model to predict next state\n",
        "            #print(f\"\\nNext state: {next_state.reshape(-1)}\")\n",
        "            #print(f\"End-Effector position: {pos_ee.reshape(-1)}, End-Effector velocity: {vel_ee.reshape(-1)}\")\n",
        "\n",
        "            # Evaluate cost\n",
        "            #self.cost_function(state, goal, action)\n",
        "            cost = self.cost_function(pos_ee, goal, vel_ee, action)\n",
        "            #print(f\"Cost: {cost}\")\n",
        "\n",
        "            # Compute best action\n",
        "            if cost < best_cost:\n",
        "                best_cost = cost\n",
        "                best_action = action.copy()\n",
        "                #print(f\"Best cost: {best_cost}\")\n",
        "                #print(f\"Best action: {best_action.reshape(-1)}\")\n",
        "\n",
        "            # Compute new action\n",
        "            #self.compute_best_action(dynamics, goal)\n",
        "            #new_action = self.compute_best_action(dynamics, action, goal, pos_ee, vel_ee)\n",
        "            #print(f\"New action: {action.reshape(-1)}\")\n",
        "            action = self.compute_best_action(action, dynamics, goal, pos_ee, vel_ee)\n",
        "            #print(f\"Updated action: {action.reshape(-1)}\")\n",
        "\n",
        "            # Update state for next iteration\n",
        "            #state = self.next_state\n",
        "            #updated_state = next_state\n",
        "            #print(f\"Updated state: {updated_state.reshape(-1)}\")\n",
        "            state = next_state\n",
        "            #print(f\"Updated state: {next_state.reshape(-1)}\")\n",
        "\n",
        "        return best_action"
      ]
    },
    {
      "cell_type": "code",
      "source": [
        "import numpy as np\n",
        "\n",
        "class MPC:\n",
        "\n",
        "    def __init__(self):\n",
        "        self.control_horizon = 10\n",
        "        self.base_step_size = 0.005\n",
        "        self.step_size = 0.005\n",
        "        self.base_position_cost_weight = 2.07\n",
        "        self.base_velocity_cost_weight = 0.8\n",
        "\n",
        "    def adaptive_step_size(self, distance_to_goal, current_velocity):\n",
        "        step_adjustment_factor = 1 + 0.5 * distance_to_goal + 0.5 * np.linalg.norm(current_velocity)\n",
        "        return max(self.base_step_size / step_adjustment_factor, 0.001)\n",
        "\n",
        "    def dynamic_gain_adjustment(self, distance_to_goal, current_velocity):\n",
        "        position_gain = self.base_position_cost_weight * (2 / (1 + np.exp(-distance_to_goal)) - 1)\n",
        "        velocity_gain = self.base_velocity_cost_weight * (1 + min(np.linalg.norm(current_velocity), 1))\n",
        "        return position_gain, velocity_gain\n",
        "\n",
        "    def advance_state(self, dynamics, state, action):\n",
        "        return dynamics.advance(state, action)\n",
        "\n",
        "    def compute_end_effector_metrics(self, dynamics, state):\n",
        "        pos_ee = dynamics.compute_fk(state)[:2, :]\n",
        "        vel_ee = dynamics.compute_vel_ee(state)[:2, :]\n",
        "        return pos_ee, vel_ee\n",
        "\n",
        "    def compute_cost(self, pos_ee, vel_ee, goal, position_weight, velocity_weight):\n",
        "        position_cost = np.sum((pos_ee - goal)**2)\n",
        "        velocity_cost = np.sum(vel_ee**2)\n",
        "        return position_weight * position_cost + velocity_weight * velocity_cost\n",
        "\n",
        "    def update_best_action(self, action, current_cost, best_action, best_cost):\n",
        "        if current_cost < best_cost:\n",
        "            return action.copy(), current_cost\n",
        "        return best_action, best_cost\n",
        "\n",
        "    def adjust_action(self, action, pos_ee, goal, step_size, num_links):\n",
        "        state_deviation = pos_ee - goal\n",
        "        action_adjustment = np.zeros((num_links, 1))\n",
        "        for i in range(num_links):\n",
        "            action_adjustment[i, 0] = -state_deviation.flatten()[i % 2] * step_size\n",
        "        return action + action_adjustment\n",
        "\n",
        "    def compute_action(self, dynamics, state, goal, action):\n",
        "        num_links = dynamics.num_links\n",
        "        best_action = np.zeros((num_links, 1))\n",
        "        best_cost = np.inf\n",
        "\n",
        "        for _ in range(self.control_horizon):\n",
        "            # Step 1: Compute next state\n",
        "            next_state = self.advance_state(dynamics, state, action)\n",
        "\n",
        "            # Step 2: Get end-effector position & velocity\n",
        "            pos_ee, vel_ee = self.compute_end_effector_metrics(dynamics, next_state)\n",
        "\n",
        "            # Step 3: Adjust step size and gain\n",
        "            distance_to_goal = np.linalg.norm(pos_ee - goal)\n",
        "            self.step_size = self.adaptive_step_size(distance_to_goal, vel_ee)\n",
        "            position_weight, velocity_weight = self.dynamic_gain_adjustment(distance_to_goal, vel_ee)\n",
        "\n",
        "            # Step 4: Compute cost\n",
        "            current_cost = self.compute_cost(pos_ee, vel_ee, goal, position_weight, velocity_weight)\n",
        "\n",
        "            # Step 5: Update best action\n",
        "            best_action, best_cost = self.update_best_action(action, current_cost, best_action, best_cost)\n",
        "\n",
        "            # Step 6: Adjust action\n",
        "            action = self.adjust_action(action, pos_ee, goal, self.step_size, num_links)\n",
        "\n",
        "            # Step 7: Update the state\n",
        "            state = next_state\n",
        "\n",
        "        return best_action"
      ],
      "metadata": {
        "id": "atL3YsVvqbDn"
      },
      "execution_count": 160,
      "outputs": []
    },
    {
      "cell_type": "markdown",
      "metadata": {
        "id": "br5wyFnGRxgg"
      },
      "source": [
        "## Manually testing the controller\n",
        "This part is for you to manually check the performance of your controller before you are ready for it be evaluated by our scoring function.\n",
        "To test your implementation run the following code. Feel free to play around with the cell or change the num_links / goal positions . You can define your controller however you would like to and then switch on gui to see how close your end effectors get to the goal position\n",
        "\n",
        "Every time step within the environment is 0.01s, which is defined in the dynamics as `dt`.\n",
        "\n",
        "The MPC class has a `control_horizon` variable which represents the frequency at which `controller.compute_action()` will be called\n",
        "\n",
        "In the scoring function you will be evaluated on the distance of your end effector to the goal position and the velocity of the end effector."
      ]
    },
    {
      "cell_type": "code",
      "execution_count": 162,
      "metadata": {
        "id": "bZ0GFCoLpJ9A",
        "colab": {
          "base_uri": "https://localhost:8080/"
        },
        "outputId": "8c5cb297-044e-4e07-ec81-90095b32d9fb"
      },
      "outputs": [
        {
          "output_type": "stream",
          "name": "stdout",
          "text": [
            "At timestep 0: Distance to goal: 3.3970575502926055, Velocity of end effector: 5.539171676143414e-18\n",
            "At timestep 10: Distance to goal: 3.392176332884339, Velocity of end effector: 0.06012181365351473\n",
            "At timestep 20: Distance to goal: 3.3780377788601825, Velocity of end effector: 0.11073440355184443\n",
            "At timestep 30: Distance to goal: 3.3530986691139173, Velocity of end effector: 0.14103106513380337\n",
            "At timestep 40: Distance to goal: 3.316499924736167, Velocity of end effector: 0.15250953873304238\n",
            "At timestep 50: Distance to goal: 3.268112537974774, Velocity of end effector: 0.14569628791585262\n",
            "At timestep 60: Distance to goal: 3.208694086680415, Velocity of end effector: 0.1209558794877226\n",
            "At timestep 70: Distance to goal: 3.1396013468962485, Velocity of end effector: 0.08071713201430115\n",
            "At timestep 80: Distance to goal: 3.062196297467657, Velocity of end effector: 0.02944534165538387\n",
            "At timestep 90: Distance to goal: 2.9773572187460595, Velocity of end effector: 0.02773566786991462\n",
            "At timestep 100: Distance to goal: 2.8853941058129005, Velocity of end effector: 0.08619807556095248\n",
            "At timestep 110: Distance to goal: 2.7862299089826843, Velocity of end effector: 0.1416355838554388\n",
            "At timestep 120: Distance to goal: 2.6797019722710136, Velocity of end effector: 0.19070180153581487\n",
            "At timestep 130: Distance to goal: 2.565896338830886, Velocity of end effector: 0.2311862955880504\n",
            "At timestep 140: Distance to goal: 2.4453852993664404, Velocity of end effector: 0.261880897841729\n",
            "At timestep 150: Distance to goal: 2.3193415735044693, Velocity of end effector: 0.2824214565369883\n",
            "At timestep 160: Distance to goal: 2.189599076345073, Velocity of end effector: 0.2932572778351789\n",
            "At timestep 170: Distance to goal: 2.058793578066686, Velocity of end effector: 0.2958384482909376\n",
            "At timestep 180: Distance to goal: 1.9307644341274985, Velocity of end effector: 0.29311455003442116\n",
            "At timestep 190: Distance to goal: 1.8114683081615677, Velocity of end effector: 0.29054122902124885\n",
            "At timestep 200: Distance to goal: 1.7107751709777193, Velocity of end effector: 0.29810954717648935\n",
            "At timestep 210: Distance to goal: 1.6456086411629225, Velocity of end effector: 0.33476765824369376\n",
            "At timestep 220: Distance to goal: 1.643596185691993, Velocity of end effector: 0.43367293385426114\n",
            "At timestep 230: Distance to goal: 1.7421412661148348, Velocity of end effector: 0.6427526549404425\n",
            "At timestep 240: Distance to goal: 1.9830668909356306, Velocity of end effector: 1.0384455175848109\n"
          ]
        }
      ],
      "source": [
        "import sys\n",
        "import numpy as np\n",
        "from arm_dynamics_teacher import ArmDynamicsTeacher\n",
        "from robot import Robot\n",
        "from render import Renderer\n",
        "from score import *\n",
        "import torch\n",
        "import time\n",
        "import math\n",
        "np.set_printoptions(suppress=True)\n",
        "\n",
        "# Teacher arm with 3 links\n",
        "dynamics_teacher = ArmDynamicsTeacher(\n",
        "    num_links=3,\n",
        "    link_mass=0.1,\n",
        "    link_length=1,\n",
        "    joint_viscous_friction=0.1,\n",
        "    dt=0.01)\n",
        "\n",
        "arm = Robot(dynamics_teacher)\n",
        "arm.reset()\n",
        "\n",
        "#gui = True\n",
        "gui = False\n",
        "\n",
        "if gui:\n",
        "  renderer = Renderer()\n",
        "  time.sleep(1)\n",
        "\n",
        "# Controller\n",
        "#controller = MPC(dynamics_teacher, state)\n",
        "controller = MPC()\n",
        "\n",
        "# Resetting the arm will set its state so that it is in the vertical position,\n",
        "# and set the action to be zeros\n",
        "arm.reset()\n",
        "\n",
        "# Choose the goal position you would like to see the performance of your controller\n",
        "goal = np.zeros((2, 1))\n",
        "goal[0, 0] = 2.5\n",
        "goal[1, 0] = -0.7\n",
        "arm.goal = goal\n",
        "\n",
        "dt = 0.01\n",
        "time_limit = 2.5\n",
        "num_steps = round(time_limit/dt)\n",
        "\n",
        "# Initial action (start with zeros)\n",
        "action = np.zeros((arm.dynamics.get_action_dim(), 1))\n",
        "\n",
        "# Control loop\n",
        "for s in range(num_steps):\n",
        "  t = time.time()\n",
        "  arm.advance()\n",
        "\n",
        "  if gui:\n",
        "    renderer.plot([(arm, \"tab:blue\")])\n",
        "  time.sleep(max(0, dt - (time.time() - t)))\n",
        "\n",
        "  if s % controller.control_horizon==0:\n",
        "    state = arm.get_state()\n",
        "\n",
        "    # Measuring distance and velocity of end effector\n",
        "    pos_ee = dynamics_teacher.compute_fk(state)\n",
        "    dist = np.linalg.norm(goal-pos_ee)\n",
        "    vel_ee = np.linalg.norm(arm.dynamics.compute_vel_ee(state))\n",
        "    print(f'At timestep {s}: Distance to goal: {dist}, Velocity of end effector: {vel_ee}')\n",
        "\n",
        "    action = controller.compute_action(arm.dynamics, state, goal, action)\n",
        "    arm.set_action(action)"
      ]
    },
    {
      "cell_type": "markdown",
      "metadata": {
        "id": "lVIGZZimCNI4"
      },
      "source": [
        "## Grading and Evaluation for Part 1\n",
        "Your controller will be graded on 6 tests. 2 tests each for the 1-link ,2-link, and 3-link arms. The arm will start off in the initial state with the arms pointing stright down. The testing criteria depend on the distance and the velocity of the end effectors . Each test will run the robot arm for **5.0 seconds**. At the end of the 5 seconds the test will be:\n",
        "\n",
        "A success if your end effectors meet this criteria:\n",
        "`distance_to_goal < 0.1 and vel_ee < 0.5`\n",
        "\n",
        "A partial success if your end effectors meet this criteria:\n",
        "`distance_to_goal < 0.2 and vel_ee < 0.5`\n",
        "\n",
        "After all of the tests, your score is summed up and then scaled out of 5 points.\n"
      ]
    },
    {
      "cell_type": "code",
      "execution_count": 163,
      "metadata": {
        "id": "IXswattzCLyC"
      },
      "outputs": [],
      "source": [
        "# Scoring using score_mpc\n",
        "controller = MPC()\n",
        "gui = False"
      ]
    },
    {
      "cell_type": "code",
      "source": [
        "# DO NOT CHANGE\n",
        "score_mpc_true_dynamics(controller, gui)"
      ],
      "metadata": {
        "id": "B5iMweqC1SsB",
        "colab": {
          "base_uri": "https://localhost:8080/"
        },
        "outputId": "fd3b383e-3d89-4ae1-eee3-9e2e3c67e487"
      },
      "execution_count": 164,
      "outputs": [
        {
          "output_type": "stream",
          "name": "stdout",
          "text": [
            "\n",
            "Part1: EVALUATING CONTROLLER (with perfect dynamics)\n",
            "-----------------------------------------------------\n",
            "NUM_LINKS: 1\n",
            "Test  1\n",
            "Success! :)\n",
            " Goal: [ 0.38941834 -0.92106099], Final position: [ 0.38672971 -0.92219311], Final velocity: [0.]\n",
            "score: 1.5/1.5\n",
            "Test  2\n",
            "Success! :)\n",
            " Goal: [-0.68163876 -0.73168887], Final position: [-0.67529136 -0.73755106], Final velocity: [0.]\n",
            "score: 1.0/1.0\n",
            "NUM_LINKS: 2\n",
            "Test  1\n",
            "Success! :)\n",
            " Goal: [ 0.6814821  -1.61185674], Final position: [ 0.71296775 -1.67819877], Final velocity: [0.03523334]\n",
            "score: 1.5/1.5\n",
            "Test  2\n",
            "Fail! :(\n",
            " Goal: [-1.19286783 -1.28045552], Final position: [ 0. -2.], Final velocity: [0.]\n",
            "score: 0/1.0\n",
            "NUM_LINKS: 3\n",
            "Test  1\n",
            "Fail! :(\n",
            " Goal: [ 1.29444895 -2.36947292], Final position: [-0.6356032  -1.64336657], Final velocity: [0.37861307]\n",
            "score: 0/1.5\n",
            "Test  2\n",
            "Fail! :(\n",
            " Goal: [-2.10367746 -1.35075576], Final position: [-0.14900542 -0.30007926], Final velocity: [1.07843683]\n",
            "score: 0/1.0\n",
            "       \n",
            "-------------------------\n",
            "Part 1 SCORE:  2.6666666666666665/5\n",
            "-------------------------\n"
          ]
        }
      ]
    },
    {
      "cell_type": "markdown",
      "source": [
        "# Part 2: Learning Forward Dynamics"
      ],
      "metadata": {
        "id": "LsuMIhKPuNf9"
      }
    },
    {
      "cell_type": "markdown",
      "source": [
        "### Background Information\n",
        "\n",
        "From here on, you will only be working with a 2-link arm.\n",
        "\n",
        "In part 2, you will be training a model that learns the ground truth dynamics of a 2-link arm. This part uses two 2-link arms, one called arm_teacher (blue) and the other called arm_student (red), as shown in the image below. For each test, a torque will be applied to the first joint of both arms for 5 seconds. arm_teacher is moving according to the provided ground truth forward dynamics and your job is to use deep learning to train the arm_student to learn the forward dynamics of arm_teacher so that it can imitate its behavior. The forward dynamics is a function that takes in the current state of an action applied to the arm, and then computes the new state of the arm. This part uses a time step of 0.01 second, meaning each time we advance the simulation, we compute the forward dynamics for 0.01 second. In the example image, the student arm is not updating its state and remains static but we will make it move after training is done.\n",
        "\n",
        "<div>\n",
        "<img src=\"https://github.com/roamlab/mecs6616_sp25_project3/blob/main/imgs/example.png?raw=true\" width=\"600\"/>\n",
        "</div>\n",
        "\n",
        "The state of each arm is defined with a (4,1)-dimensional numpy array (two joint positions in radians + two joint velocities in radians per second). An action is defined as the two torques (in Nm) applied to the two joints respectively, which is a (2,1) numpy array. **Throughout this part, we make the problem simpler by only applying a torque to the first joint, so the actions always look like `[torque,0]`.** Also, when scoring your model the robot will always start off in a hanging position, meaning an initial state of `[-pi/2,0,0,0]` so if the collected data from part 2.1 looks similar, the model will perform better. The `robot.py` file provides you with some functions to set/get the state and set the action for the arm. Make sure you understand `robot.py` well enough before getting started.\n",
        "\n",
        "`geometry.py` provides some geometry functions, `render.py` defines how the visualization is rendered, `custom_plot.py` provides data visualization functionality. These three files are not of particular interest for completing this part."
      ],
      "metadata": {
        "id": "3UqbZ4e_zk54"
      }
    },
    {
      "cell_type": "markdown",
      "source": [
        "## Part 2.1: Collecting Data"
      ],
      "metadata": {
        "id": "zuthhNUKunUl"
      }
    },
    {
      "cell_type": "markdown",
      "source": [
        "You will first need to complete the cell below to collect a dataset for training the forward dynamics. After running the cell, it should generate a pickle file `data_pt2.pkl` that contains a data dictionary `data = {'X': X, 'Y': Y}`. The shape of `data['X']` should be (`num_samples`, 6), the first 4 elements are state and the last 2 elements are the action. The shape of `data['Y']` should be (`num_samples`, 4), which saves the next state after applying the action using the ground truth forward dynamics of arm_teacher. You are responsible for deciding and collecting an appropriate amount of samples. Thus, num_samples is entirely up to you and your model.\n",
        "\n",
        "**After the data file is generated, `data_pt2.pkl` should appear under the 'Files' icon in the left sidebar. You can download this file by right clicking the file name. You are required to submit this file. Please do not change its name.**\n",
        "\n",
        "In the cell below, we have provided a minimal example of simulating the arm_teacher for 5 seconds. The GUI visualization is turned on and you should see the behavior of arm_teacher. The visualization can drastically slow down the simulator and you should turn it off when collecting a large amount of data."
      ],
      "metadata": {
        "id": "UR9W_fmSwdEq"
      }
    },
    {
      "cell_type": "code",
      "source": [
        "import numpy as np\n",
        "import os\n",
        "from arm_dynamics_teacher import ArmDynamicsTeacher\n",
        "from robot import Robot\n",
        "import pickle\n",
        "import math\n",
        "from render import Renderer\n",
        "import time\n",
        "from custom_plot import plot_positions_velocities_with_fixed_bounds\n",
        "\n",
        "# DO NOT CHANGE\n",
        "# Teacher arm\n",
        "dynamics_teacher = ArmDynamicsTeacher(\n",
        "    num_links=2,\n",
        "    link_mass=0.1,\n",
        "    link_length=1,\n",
        "    joint_viscous_friction=0.1,\n",
        "    dt=0.01\n",
        ")\n",
        "\n",
        "arm_teacher = Robot(dynamics_teacher)\n",
        "\n",
        "# ---\n",
        "# You code starts here. X and Y should eventually be populated with your collected data\n",
        "# Control the arm to collect a dataset for training the forward dynamics.\n",
        "X = np.zeros((0, arm_teacher.dynamics.get_state_dim() + arm_teacher.dynamics.get_action_dim()))\n",
        "Y = np.zeros((0, arm_teacher.dynamics.get_state_dim()))\n",
        "\n",
        "# We run the simulator for 5 seconds with a time step of 0.01 second, so there are 500 steps in total\n",
        "num_steps = 500\n",
        "\n",
        "# Initialize num_samples to keep track of the number of samples run\n",
        "num_samples = 0\n",
        "\n",
        "# Define the torques to apply to the first joint (variety of torques)\n",
        "torques = np.array([2.0, -2.0, 1.5, -1.5, 1.0, -1.0, 0.5, -0.5, 0.0])  # Apply both positive and negative torques\n",
        "\n",
        "# Store dataset\n",
        "X = np.zeros((num_steps * len(torques), arm_teacher.dynamics.get_state_dim() + arm_teacher.dynamics.get_action_dim())) # shape: [num_steps * len(torques), 6]\n",
        "Y = np.zeros((num_steps * len(torques), arm_teacher.dynamics.get_state_dim())) # shape: [num_steps * len(torques), 4]\n",
        "print(f\"Shape of X samples: {X.shape}\")\n",
        "print(f\"Shape of Y samples: {Y.shape}\")\n",
        "\n",
        "# GUI visualization, this will drastically reudce the speed of the simulator!\n",
        "# Set this to false once you understand how the code works\n",
        "gui = False\n",
        "\n",
        "# Define the initial state of the robot, such that it is vertical\n",
        "initial_state = np.zeros((arm_teacher.dynamics.get_state_dim(), 1))  # position and velocity\n",
        "initial_state[0] = -math.pi / 2.0\n",
        "print(f\"Initial state: {initial_state.reshape(-1)}\")\n",
        "\n",
        "# Set the initial state of the arm. Input to set_state() should be of shape (6, 1)\n",
        "arm_teacher.set_state(initial_state)\n",
        "\n",
        "# Define the action, applying 1Nm torque to the first joint\n",
        "#action = np.zeros((arm_teacher.dynamics.get_action_dim(), 1))\n",
        "#action[0] = 1\n",
        "#print(f\"Action (applying 1Nm torque to the first joint): {action}\")\n",
        "\n",
        "# Set the action. Input to set_action() should be of shape (3, 1)\n",
        "arm_teacher.set_action(action)\n",
        "\n",
        "# Initialize the GUI\n",
        "if gui:\n",
        "    renderer = Renderer()\n",
        "    time.sleep(1)\n",
        "\n",
        "# Simulate for num_steps with varying torques\n",
        "for torque in torques:\n",
        "    for s in range(num_steps):  # Loop over num_steps for each torque value\n",
        "\n",
        "        # Set the action with the current torque applied to the first joint\n",
        "        action = np.array([[torque], [0]])  # [torque, 0]\n",
        "        arm_teacher.set_action(action)\n",
        "\n",
        "        # Get the current state\n",
        "        state = arm_teacher.get_state().reshape(-1)\n",
        "\n",
        "        # Store current state and action in X\n",
        "        X[num_samples, :4] = state\n",
        "        X[num_samples, 4:] = action.reshape(-1)\n",
        "\n",
        "        # The advance function will simulate the action for 1 time step\n",
        "        arm_teacher.advance()\n",
        "\n",
        "        # Get the new state after advancing one time step\n",
        "        new_state = arm_teacher.get_state().reshape(-1)\n",
        "        Y[num_samples, :] = new_state\n",
        "\n",
        "        if gui:\n",
        "            renderer.plot([(arm_teacher, 'tab:blue')])\n",
        "\n",
        "        # Increment the sample counter\n",
        "        num_samples += 1\n",
        "# ---\n",
        "\n",
        "# DO NOT CHANGE\n",
        "# Save the collected data in the data_pt2.pkl file\n",
        "data = {'X': X, 'Y': Y}\n",
        "pickle.dump(data, open( \"data_pt2.pkl\", \"wb\" ) )"
      ],
      "metadata": {
        "id": "UoH4UjAawlLF",
        "colab": {
          "base_uri": "https://localhost:8080/"
        },
        "outputId": "ffa00bbe-4165-4260-a880-d5f73c886de9"
      },
      "execution_count": 175,
      "outputs": [
        {
          "output_type": "stream",
          "name": "stdout",
          "text": [
            "Shape of X samples: (4500, 6)\n",
            "Shape of Y samples: (4500, 4)\n",
            "Initial state: [-1.57079633  0.          0.          0.        ]\n"
          ]
        }
      ]
    },
    {
      "cell_type": "markdown",
      "source": [
        "Once you've stored X and Y in data, you may uncomment the cell below to see the distribution of end-effector positions and velocities"
      ],
      "metadata": {
        "id": "OEccRJTSwzSm"
      }
    },
    {
      "cell_type": "code",
      "source": [
        "# Plot the distribution of collected samples\n",
        "plot_positions_velocities_with_fixed_bounds(data['Y'], [1,1])"
      ],
      "metadata": {
        "id": "pCxJmzR-wth8",
        "colab": {
          "base_uri": "https://localhost:8080/",
          "height": 939
        },
        "outputId": "ca630881-f853-45b6-8364-ef6e5328dae7"
      },
      "execution_count": 176,
      "outputs": [
        {
          "output_type": "display_data",
          "data": {
            "text/plain": [
              "<Figure size 1800x1200 with 4 Axes>"
            ],
            "image/png": "[encoded data removed]"
          },
          "metadata": {}
        }
      ]
    },
    {
      "cell_type": "markdown",
      "source": [
        "## Part 2.2: Learning Forward Dynamics"
      ],
      "metadata": {
        "id": "2Wc8mPVgw5-d"
      }
    },
    {
      "cell_type": "markdown",
      "source": [
        "### Training\n",
        "\n",
        "After the data is collected, you will then need to complete the cell below to use the collected dataset to learn the forward dynamics.\n",
        "\n",
        "The code already creates the dataset class and loads the dataset with a random 0.8/0.2 train/test split for you. This cell should save the model that it trains. You should use a specific procedure for saving, outlined below. Note that the saving code is not already included so you will have to add it yourself.\n",
        "\n",
        "In machine learning, it is a very good practice to save not only the final model but also the checkpoints, such that you have a wider range of models to choose from. We provide a code snippet for you and for each epoch of your training, you should use it to save the model at that epoch.\n",
        "\n",
        "```\n",
        "model_folder_name = f'epoch_{epoch:04d}_loss_{test_loss:.8f}'\n",
        "if not os.path.exists(os.path.join(model_dir, model_folder_name)):\n",
        "    os.makedirs(os.path.join(model_dir, model_folder_name))\n",
        "torch.save(model.state_dict(), os.path.join(model_dir, model_folder_name, 'dynamics_pt2.pth'))\n",
        "```\n",
        "\n",
        "The output from running this code should be a folder as below:\n",
        "\n",
        "```\n",
        "models/\n",
        "    2025-03-08_23-57-50/\n",
        "        epoch_0001_loss_0.00032930/\n",
        "            dynamics_pt2.pth\n",
        "        epoch_0002_loss_0.00009413/\n",
        "            dynamics_pt2.pth   \n",
        "        ...  \n",
        "```\n",
        "\n",
        "You can see that every time you run this cell, a folder whose name is the time you started will be created under `models`. Checkpoints from all epochs will be saved and then the folder name for saving the checkpoint indicates the epoch number and loss on the holdout test set. Recording checkpoints this way allows you to easily pick the model with the smallest loss."
      ],
      "metadata": {
        "id": "6NqfsPwvw9e1"
      }
    },
    {
      "cell_type": "markdown",
      "source": [
        "### Important: choosing the best model\n",
        "\n",
        "Your code should keep track of the checkpoint with the smallest loss on the test set. You should save the path of that checkpoint to the variable `model_path`. An example value of `model_path` could be `models/2025-03-07_20-14-32/epoch_0046_loss_0.00000005/dynamics_pt2.pth`. In the evaluation code, the checkpoint from `model_path` will be loaded and evaluated.\n",
        "\n",
        "You should also download the `dynamics_pt2.pth` file to include in your submission.\n",
        "\n",
        "A common practice with regards to model saving is to only save models with the best test_loss, rather than checkpoint every epoch. If you want, you can modify the save code to do that instead."
      ],
      "metadata": {
        "id": "pNbmeC_Yxb0Z"
      }
    },
    {
      "cell_type": "markdown",
      "source": [
        "### Model Architecture\n",
        "\n",
        "In lecture, we introduced the trick to use joint accelerations to compute the next state. You will use your neural network to compute the joint accelerations. This will take in your joint angles, joint velocities, and actions applied to the arm and output joint acceleration values for each link. Then you can use your knowledge of analytical kinematics to derive the joint positions and velocities in the next time step given the joint acceleration values."
      ],
      "metadata": {
        "id": "lSD5sprA6SNR"
      }
    },
    {
      "cell_type": "code",
      "source": [
        "import torch\n",
        "from torch.utils.data import Dataset, DataLoader, random_split\n",
        "import os\n",
        "import numpy as np\n",
        "import torch\n",
        "import torch.nn as nn\n",
        "import argparse\n",
        "import time\n",
        "import pickle\n",
        "np.set_printoptions(suppress=True)\n",
        "\n",
        "\n",
        "class DynamicDataset(Dataset):\n",
        "    def __init__(self, data_file):\n",
        "        data = pickle.load(open(data_file, \"rb\" ))\n",
        "        # X: (N, 6), Y: (N, 4)\n",
        "        self.X = data['X'].astype(np.float32)\n",
        "        self.Y = data['Y'].astype(np.float32)\n",
        "\n",
        "    def __len__(self):\n",
        "        return self.X.shape[0]\n",
        "\n",
        "    def __getitem__(self, idx):\n",
        "        return self.X[idx], self.Y[idx]\n",
        "\n",
        "\n",
        "class Net(nn.Module):\n",
        "    # ---\n",
        "    # Your code goes here\n",
        "    pass\n",
        "    # ---\n",
        "\n",
        "\n",
        "def train(model):\n",
        "    model.train()\n",
        "\n",
        "    # ---\n",
        "    # Your code goes here\n",
        "    # ---\n",
        "\n",
        "\n",
        "def test(model):\n",
        "    model.eval()\n",
        "\n",
        "    # --\n",
        "    # Your code goes here\n",
        "    test_loss = 0\n",
        "    # ---\n",
        "\n",
        "    return test_loss\n",
        "\n",
        "\n",
        "# The ratio of the dataset used for testing\n",
        "split = 0.2\n",
        "\n",
        "# Do NOT change\n",
        "# We are only using CPU, and GPU is not allowed.\n",
        "device = torch.device(\"cpu\")\n",
        "\n",
        "dataset = DynamicDataset('data_pt2.pkl')\n",
        "dataset_size = len(dataset)\n",
        "test_size = int(np.floor(split * dataset_size))\n",
        "train_size = dataset_size - test_size\n",
        "train_set, test_set = random_split(dataset, [train_size, test_size])\n",
        "\n",
        "train_loader = torch.utils.data.DataLoader(train_set, shuffle=True)\n",
        "test_loader = torch.utils.data.DataLoader(test_set, shuffle=True)\n",
        "\n",
        "# The name of the directory to save all the checkpoints\n",
        "timestr = time.strftime(\"%Y-%m-%d_%H-%M-%S\")\n",
        "model_dir = os.path.join('models', timestr)\n",
        "\n",
        "# Keep track of the checkpoint with the smallest test loss and save in model_path\n",
        "model_path = None\n",
        "\n",
        "epochs = 50\n",
        "for epoch in range(1, 1 + epochs):\n",
        "    # ---\n",
        "    # Your code goes here\n",
        "    # ---\n",
        "    pass\n"
      ],
      "metadata": {
        "id": "vS589cRyxjNc"
      },
      "execution_count": null,
      "outputs": []
    },
    {
      "cell_type": "markdown",
      "source": [
        "## Prediction\n",
        "\n",
        "After you are done with training, you need to complete the cell below to load the saved checkpoint (in function init_model) and then use it to predict the new state given the current state and action (in function dynamics_step). Please do not modify the arguments to those functions, even though you might not use all of them."
      ],
      "metadata": {
        "id": "nnJolAUkx5iD"
      }
    },
    {
      "cell_type": "code",
      "source": [
        "from arm_dynamics_base import ArmDynamicsBase\n",
        "\n",
        "class ArmDynamicsStudent(ArmDynamicsBase):\n",
        "    def init_model(self, model_path, num_links, time_step, device):\n",
        "        # ---\n",
        "        # Your code hoes here\n",
        "        # Initialize the model loading the saved model from provided model_path\n",
        "        self.model = None\n",
        "        # ---\n",
        "        self.model_loaded = True\n",
        "\n",
        "    def dynamics_step(self, state, action, dt):\n",
        "        if self.model_loaded:\n",
        "            # ---\n",
        "            # Your code goes here\n",
        "            # Use the loaded model to predict new state given the current state and action\n",
        "            # Output should be an array of shape (4,1)\n",
        "            new_state = None\n",
        "            return new_state\n",
        "            # ---\n",
        "        else:\n",
        "            return state"
      ],
      "metadata": {
        "id": "w1G-VVcex-t7"
      },
      "execution_count": null,
      "outputs": []
    },
    {
      "cell_type": "markdown",
      "source": [
        "## Evaluation and Grading\n",
        "\n",
        "The total number of points for this part is 5. There are 3 types of tests. Your grade for this part will be the average score across each type of test\n",
        "\n",
        "**For each type, there are 50 tests.** For each test, you get a score of 1, 0.5, or 0. Your final grade for each type is the averaged score across 50 tests * 5.\n",
        "\n",
        "- *Type 1*: for each test, a constant torque randomly sampled from [-1.5Nm, 1.5Nm] is applied to the first joint of the arm for 5 seconds. If the MSE (Mean Squred Error) between the predicted arm state (arm_student) and the ground truth arm state (arm_teacher) is < 0.0005, you get score 1 for this test. If 0.0005 <= MSE < 0.008, you get score 0.5 for this test. Otherwise you get 0.\n",
        "- *Type 2*: for each test, a torque that linearly increases from 0 to a random torque in [0.5Nm, 1.5Nm] is applied to the first joint of the arm for 5 seconds. If MSE < 0.0005, you get score 1 for this test. If 0.0005 <= MSE < 0.008, you get score 0.5 for this test. Otherwise you get 0.\n",
        "- *Type 3*: for each test, one torque is applied for the first 2.5 seconds and another torque is applied for the remaining 2.5 seconds. Both torques are sampled from [-1Nm, 1Nm]. If MSE < 0.015, you get score 1 for this test. If 0.015 <= MSE < 0.05, you get score 0.5 for this test. Otherwise you get 0.\n"
      ],
      "metadata": {
        "id": "T_zrr7POx_74"
      }
    },
    {
      "cell_type": "code",
      "source": [
        "# DO NOT CHANGE\n",
        "# Set up grading\n",
        "\n",
        "\n",
        "import importlib\n",
        "import score\n",
        "importlib.reload(score)\n",
        "\n",
        "# Make sure model_path is correctly set\n",
        "print(model_path)\n",
        "\n",
        "# Create the teacher arm\n",
        "dynamics_teacher = ArmDynamicsTeacher(\n",
        "    num_links=2,\n",
        "    link_mass=0.1,\n",
        "    link_length=1,\n",
        "    joint_viscous_friction=0.1,\n",
        "    dt=0.01\n",
        ")\n",
        "arm_teacher = Robot(dynamics_teacher)\n",
        "\n",
        "# Create the student arm\n",
        "dynamics_student = ArmDynamicsStudent(\n",
        "    num_links=2,\n",
        "    link_mass=0.1,\n",
        "    link_length=1,\n",
        "    joint_viscous_friction=0.1,\n",
        "    dt=0.01\n",
        ")\n",
        "if model_path is not None:\n",
        "  dynamics_student.init_model(model_path, num_links=2, time_step=0.01, device=torch.device('cpu'))\n",
        "arm_student = Robot(dynamics_student)"
      ],
      "metadata": {
        "id": "2YDlzP5EyF3K"
      },
      "execution_count": null,
      "outputs": []
    },
    {
      "cell_type": "code",
      "source": [
        "# DO NOT CHANGE\n",
        "\n",
        "# Test on randomly sampled torques from [-1.5, 1.5]\n",
        "score.score_random_torque(arm_teacher, arm_student, gui=False)"
      ],
      "metadata": {
        "id": "HOd1d9pOyGjj"
      },
      "execution_count": null,
      "outputs": []
    },
    {
      "cell_type": "code",
      "source": [
        "# DO NOT CHANGE\n",
        "\n",
        "# Test on torques that linearly increase from 0 to a random number from [0.5, 1.5]\n",
        "score.score_linear_torques(arm_teacher, arm_student, gui=False)"
      ],
      "metadata": {
        "id": "YdNGjOKnyI-i"
      },
      "execution_count": null,
      "outputs": []
    },
    {
      "cell_type": "code",
      "source": [
        "# DO NOT CHANGE\n",
        "\n",
        "# Test on one torque applied to the first 2.5s and another torque applied to the second 2.5s\n",
        "# Both torques are sampled from [-1, 1]\n",
        "score.score_two_torques(arm_teacher, arm_student, gui=False)"
      ],
      "metadata": {
        "id": "TzFVWncbyKlY"
      },
      "execution_count": null,
      "outputs": []
    },
    {
      "cell_type": "markdown",
      "source": [
        "# Part 3: MPC Controller with Learned Dynamics Model"
      ],
      "metadata": {
        "id": "I92M2SCUuxdV"
      }
    },
    {
      "cell_type": "markdown",
      "metadata": {
        "id": "3O1cAx4rMce7"
      },
      "source": [
        "## Part 3.1: Model Architecture\n",
        "\n",
        "We have a base class Model and a subclass for the 2-link arm. The class Model is a base class for our models. In compute_next_state() method, you have to use the trick to use joint accelerations to compute the next state similar to what you did in Part 2.\n",
        "\n",
        "In the `Model2Link` class you will use a neural network to compute the joint accelerations by implementing `compute_qddot()` method. This will take 6 values (2 joint angles, 2 joint velocities and 2 actions applied to the arm) and output 2 joint acceleration values\n",
        "\n",
        "Do not change the arguments for the `__init__()` method even if you do not use them."
      ]
    },
    {
      "cell_type": "code",
      "execution_count": null,
      "metadata": {
        "id": "iPOWJZOyMekB"
      },
      "outputs": [],
      "source": [
        "import torch\n",
        "import torch.nn as nn\n",
        "import torch.nn.functional as F\n",
        "\n",
        "class Model(nn.Module):\n",
        "\tdef __init__(self, num_links, time_step):\n",
        "\t\tsuper().__init__()\n",
        "\t\tself.num_links = num_links\n",
        "\t\tself.time_step = time_step\n",
        "\n",
        "\tdef forward(self, x):\n",
        "\t\tqddot = self.compute_qddot(x)\n",
        "\t\tstate = x[:, :2*self.num_links]\n",
        "\t\tnext_state = self.compute_next_state(state, qddot)\n",
        "\t\treturn next_state\n",
        "\n",
        "\tdef compute_next_state(self, state, qddot):\n",
        "\n",
        "\t\t# Your code goes here\n",
        "\n",
        "\t\treturn None\n",
        "\n",
        "\tdef compute_qddot(self, x):\n",
        "\t\tpass\n",
        "\n",
        "class Model2Link(Model):\n",
        "  def __init__(self, time_step):\n",
        "    super().__init__(2, time_step)\n",
        "    # Your code goes here\n",
        "\n",
        "  def compute_qddot(self, x):\n",
        "    # Your code goes here\n",
        "    pass"
      ]
    },
    {
      "cell_type": "markdown",
      "metadata": {
        "id": "xYr1nkuIUQpj"
      },
      "source": [
        "## Part 3.2: Collect Data\n",
        "Similar to part 2, we will collect data which will be used to learn a forward model for our 2 link robot arm. Once we have learnt a forward model you will be evaluated on your MPC Controller that uses the learnt dynamics model instead of the true dynamics.\n",
        "\n",
        "You can modify the collect_data function or write any of your own functions however you choose to. You will be evaluated on the **2 Link Robot**"
      ]
    },
    {
      "cell_type": "code",
      "execution_count": null,
      "metadata": {
        "id": "qfli4gFgYA-_"
      },
      "outputs": [],
      "source": [
        "# Teacher arm with 2 links\n",
        "dynamics_teacher = ArmDynamicsTeacher(\n",
        "    num_links=2,\n",
        "    link_mass=0.1,\n",
        "    link_length=1,\n",
        "    joint_viscous_friction=0.1,\n",
        "    dt=0.01)\n",
        "\n",
        "arm = Robot(dynamics_teacher)\n",
        "arm.reset()\n",
        "\n",
        "def collect_data(arm):\n",
        "\n",
        "  # ---\n",
        "  # You code goes here. Replace the X, and Y by your collected data\n",
        "  # Control the arm to collect a dataset for training the forward dynamics.\n",
        "  num_samples = 10000\n",
        "  X = np.zeros((num_samples, arm.dynamics.get_state_dim() + arm.dynamics.get_action_dim()))\n",
        "  Y = np.zeros((num_samples, arm.dynamics.get_state_dim()))\n",
        "\n",
        "  # ---\n",
        "\n",
        "  return X, Y\n"
      ]
    },
    {
      "cell_type": "code",
      "execution_count": null,
      "metadata": {
        "id": "53Qtg48i9_LZ"
      },
      "outputs": [],
      "source": [
        "import pickle\n",
        "\n",
        "# Call the function you have defined above to collect data\n",
        "X, Y = collect_data(arm)\n",
        "save_dir = 'dataset'\n",
        "if not os.path.exists(save_dir):\n",
        "  os.makedirs(save_dir)\n",
        "\n",
        "# Save the collected data in the data_pt3.pkl file\n",
        "data = {'X': X, 'Y': Y}\n",
        "pickle.dump(data, open(os.path.join(save_dir, 'data_pt3.pkl'), \"wb\" ))"
      ]
    },
    {
      "cell_type": "markdown",
      "metadata": {
        "id": "drBZgkLxf-O-"
      },
      "source": [
        "## Part 3.3: Training the forward model\n",
        "By now you would be familiar with the basic skeleton of training a forward model.\n",
        "\n",
        "The starter code already creates the dataset class and loads the dataset with a random 0.8/0.2 train/test split for you. This script should save the model that it trains. You should use a specific procedure for saving, outlined below.\n",
        "\n",
        "In machine learning, it is a very good practice to save not only the final model but also the checkpoints. Our starter code already configures save_dir for you and for each epoch of your training, you should use the following code to save the model at that epoch.\n",
        "\n",
        "```\n",
        "model_folder_name = f'epoch_{epoch:04d}_loss_{test_loss:.8f}'\n",
        "if not os.path.exists(os.path.join(args.save_dir, model_folder_name)):\n",
        "    os.makedirs(os.path.join(args.save_dir, model_folder_name))\n",
        "torch.save(model.state_dict(), os.path.join(args.save_dir, model_folder_name, 'dynamics_pt3.pth'))\n",
        "print(f'model saved to {os.path.join(args.save_dir, model_folder_name, \"dynamics_pt3.pth\")}\\n')\n",
        "```\n",
        "The output from running this code should be a folder as below:\n",
        "\n",
        "```\n",
        "models/\n",
        "    2021-03-24_23-57-50/\n",
        "        epoch_0001_loss_0.00032930/\n",
        "            dynamics_pt3.pth\n",
        "        epoch_0002_loss_0.00009413/\n",
        "            dynamics_pt3.pth   \n",
        "        ...  \n",
        "```\n",
        "You can implement the functions below as you please to collect data"
      ]
    },
    {
      "cell_type": "code",
      "execution_count": null,
      "metadata": {
        "id": "0c1A-JN4gCtN"
      },
      "outputs": [],
      "source": [
        "import torch\n",
        "from torch.utils.data import Dataset, DataLoader, random_split\n",
        "import os\n",
        "import numpy as np\n",
        "import torch\n",
        "import torch.nn as nn\n",
        "import torch.nn.functional as F\n",
        "import tqdm\n",
        "import pickle\n",
        "import torch.optim as optim\n",
        "import argparse\n",
        "import time\n",
        "\n",
        "class DynamicDataset(Dataset):\n",
        "  def __init__(self, datafile):\n",
        "    data = pickle.load(open(datafile, 'rb'))\n",
        "    # X: (N, 6), Y: (N, 4)\n",
        "    self.X = data['X'].astype(np.float32)\n",
        "    self.Y = data['Y'].astype(np.float32)\n",
        "\n",
        "  def __len__(self):\n",
        "    return self.X.shape[0]\n",
        "\n",
        "  def __getitem__(self, idx):\n",
        "    return self.X[idx], self.Y[idx]\n",
        "\n",
        "\n",
        "def train_one_epoch(model):\n",
        "  model.train()\n",
        "\t# ---\n",
        "\t# Your code goes here\n",
        "\t# ---\n",
        "  pass\n",
        "\n",
        "def test(model):\n",
        "\tmodel.eval()\n",
        "\t# --\n",
        "\t# Your code goes here\n",
        "  # --\n",
        "\ttest_loss = 0\n",
        "\treturn test_loss\n",
        "\n",
        "def train_forward_model():\n",
        "\n",
        "\t# --\n",
        "\t# Implement this function\n",
        "  # --\n",
        "\n",
        "  # Keep track of the checkpoint with the smallest test loss and save in model_path\n",
        "  model_path = None\n",
        "  max_test_loss = 1e4\n",
        "  model = Model2Link(0.01)\n",
        "\n",
        "  datafile = 'dataset/data_pt3.pkl'\n",
        "  split = 0.2\n",
        "  dataset = DynamicDataset(datafile)\n",
        "  dataset_size = len(dataset)\n",
        "  test_size = int(np.floor(split * dataset_size))\n",
        "  train_size = dataset_size - test_size\n",
        "  train_set, test_set = random_split(dataset, [train_size, test_size])\n",
        "\n",
        "  train_loader = torch.utils.data.DataLoader(train_set, batch_size=32, shuffle=True)\n",
        "  test_loader = torch.utils.data.DataLoader(test_set, batch_size=32, shuffle=True)\n",
        "\n",
        "  # The name of the directory to save all the checkpoints\n",
        "  timestr = time.strftime(\"%Y-%m-%d_%H-%M-%S\")\n",
        "  model_dir = os.path.join('models', timestr)\n",
        "\n",
        "  epochs=50\n",
        "  for epoch in range(1, 1 + epochs):\n",
        "    # --\n",
        "    # Your code goes here\n",
        "    # --\n",
        "    pass\n",
        "\n",
        "  return model_path"
      ]
    },
    {
      "cell_type": "code",
      "execution_count": null,
      "metadata": {
        "id": "g4g5oanOA2lJ"
      },
      "outputs": [],
      "source": [
        "model_path = train_forward_model()"
      ]
    },
    {
      "cell_type": "markdown",
      "metadata": {
        "id": "-TWZSTyG15Es"
      },
      "source": [
        "## Part 3.4: Completing ArmDynamicsStudent\n",
        "\n",
        "After you are done with training, you need to complete ArmDynamicsStudent class following the comments below to load the saved checkpoint (in function init_model) and then use it to predict the new state given the current state and action (in function dynamics_step). Please do not modify the arguments to those functions, even though you might not use all of them."
      ]
    },
    {
      "cell_type": "code",
      "execution_count": null,
      "metadata": {
        "id": "Jc0s9sdV2hN9"
      },
      "outputs": [],
      "source": [
        "from arm_dynamics_base import ArmDynamicsBase\n",
        "\n",
        "class ArmDynamicsStudent(ArmDynamicsBase):\n",
        "    def init_model(self, model_path, num_links, time_step, device):\n",
        "        # ---\n",
        "        # Your code hoes here\n",
        "        # Initialize the model loading the saved model from provided model_path\n",
        "        self.model = None\n",
        "        # ---\n",
        "        self.model_loaded = True\n",
        "\n",
        "    def dynamics_step(self, state, action, dt):\n",
        "        if self.model_loaded:\n",
        "            # ---\n",
        "            # Your code goes here\n",
        "            # Use the loaded model to predict new state given the current state and action\n",
        "            new_state = None\n",
        "            return new_state\n",
        "            # ---\n",
        "        else:\n",
        "            return state"
      ]
    },
    {
      "cell_type": "markdown",
      "metadata": {
        "id": "IK686tpd3jAU"
      },
      "source": [
        "## Manually Testing the MPC Controller with the learnt dynamics model\n",
        "We will now use the learnt dynamics model that you have trained. The model is loaded in the dynamics.init_model method. You can modify the goal positions to see how well is the controller performing similar to what you did before. Feel free to play around with the code in this cell to test your performance before the grading part.\n"
      ]
    },
    {
      "cell_type": "code",
      "execution_count": null,
      "metadata": {
        "id": "GU54TdIv3JTG"
      },
      "outputs": [],
      "source": [
        "import sys\n",
        "import numpy as np\n",
        "from arm_dynamics_teacher import ArmDynamicsTeacher\n",
        "from robot import Robot\n",
        "from render import Renderer\n",
        "from score import *\n",
        "import torch\n",
        "import time\n",
        "\n",
        "# Teacher arm with 3 links\n",
        "dynamics_teacher = ArmDynamicsTeacher(\n",
        "    num_links=2,\n",
        "    link_mass=0.1,\n",
        "    link_length=1,\n",
        "    joint_viscous_friction=0.1,\n",
        "    dt=0.01)\n",
        "\n",
        "arm = Robot(dynamics_teacher)\n",
        "arm.reset()\n",
        "\n",
        "gui = False\n",
        "action = np.zeros((arm.dynamics.get_action_dim(), 1))\n",
        "if gui:\n",
        "  renderer = Renderer()\n",
        "  time.sleep(1)\n",
        "\n",
        "# Controller\n",
        "controller = MPC()\n",
        "dynamics_student = ArmDynamicsStudent(\n",
        "    num_links=2,\n",
        "    link_mass=0.1,\n",
        "    link_length=1,\n",
        "    joint_viscous_friction=0.1,\n",
        "    dt=0.01)\n",
        "device = torch.device('cpu')\n",
        "\n",
        "# model_path should have the path to the best model that you have trained so far\n",
        "# which you would like to use for testing the controller\n",
        "model_path = None\n",
        "dynamics_student.init_model(model_path, 2, 0.01, device)\n",
        "\n",
        "# Control loop\n",
        "action = np.zeros((arm.dynamics.get_action_dim(), 1))\n",
        "goal = np.zeros((2, 1))\n",
        "goal[0, 0] = 2.7\n",
        "goal[1, 0] = 0.5\n",
        "arm.goal = goal\n",
        "\n",
        "dt = 0.01\n",
        "time_limit = 2.5\n",
        "num_steps = round(time_limit/dt)\n",
        "for s in range(num_steps):\n",
        "  t = time.time()\n",
        "  arm.advance()\n",
        "\n",
        "  if gui:\n",
        "    renderer.plot([(arm, \"tab:blue\")])\n",
        "  time.sleep(max(0, dt - (time.time() - t)))\n",
        "\n",
        "  if s % controller.control_horizon==0:\n",
        "    state = arm.get_state()\n",
        "    action = controller.compute_action(dynamics_student, state, goal, action)\n",
        "    arm.set_action(action)\n"
      ]
    },
    {
      "cell_type": "markdown",
      "source": [
        "## Grading and Evaluation of Part 3\n",
        "You will be evaluated on how well your controller+learnt dynamics works together. The scoring functions consists of 16 random test goals all of which will be below the x axis and between 0.05 to 1.95 lengths away from the origin.\n",
        "The controller will call the compute_action method from your MPC class and apply the action for 10 timesteps\n",
        "```\n",
        "action = controller.compute_action(dynamics_student, state, goal, action)\n",
        "```\n",
        "\n",
        "Each test will run the robot arm for **2.5 seconds**. At the end of the 2.5 seconds the test will be:\n",
        "\n",
        "A success if your end effectors meet this criteria:\n",
        "`distance_to_goal < 0.2 and vel_ee < 0.5`\n",
        "\n",
        "A partial success if your end effectors meet this criteria:\n",
        "`distance_to_goal < 0.3 and vel_ee < 0.5`\n",
        "\n",
        "After all of the tests are complete, your score is summed up and then scaled out of 5 total points. You need 15 out of the 16 tests to succeed to get a full score."
      ],
      "metadata": {
        "id": "tn1RPPnLxrpf"
      }
    },
    {
      "cell_type": "code",
      "execution_count": null,
      "metadata": {
        "id": "B28gYRyYEgrz"
      },
      "outputs": [],
      "source": [
        "controller = MPC()\n",
        "dynamics_student = ArmDynamicsStudent(\n",
        "    num_links=2,\n",
        "    link_mass=0.1,\n",
        "    link_length=1,\n",
        "    joint_viscous_friction=0.1,\n",
        "    dt=0.01)\n",
        "model_path = 'dynamics_pt3.pth'\n",
        "gui=False"
      ]
    },
    {
      "cell_type": "code",
      "source": [
        "# DO NOT CHANGE\n",
        "score_mpc_learnt_dynamics(controller, dynamics_student, model_path, gui)"
      ],
      "metadata": {
        "id": "JgmrICx-1MGg"
      },
      "execution_count": null,
      "outputs": []
    },
    {
      "cell_type": "markdown",
      "metadata": {
        "id": "z5lIxv47dgEm"
      },
      "source": [
        "Time Limit\n",
        "*   MPC evaluation (Part 1): 30 minutes\n",
        "*   Data Collection with MPC (Part 2): 1 hour 20 minutes\n",
        "*   Training the forward dynamics model (Part 3): 40 minutes\n",
        "\n",
        "Note: Time limits are general guidelines. While your code must run within the allotted time, you should be able to achieve full score with a much shorter runtime\n",
        "\n",
        "\n",
        "Hints and Suggestions:\n",
        "1. You can use your MPC Controller in your data collection to gather better training samples\n",
        "2. A good cost function to evaluate your trajectory in MPC is very important and you can use both distance and velocity metrics to define the cost function.\n",
        "3. As mentioned in the lecture, a constant torque with pseudo gradients seems to work well for this project. You can also use multiple delta values to gather more trajectories to choose from.\n",
        "4. Since we are passing the MPC object to the controller you can instantiate the MPC class with different parameters like the planning horizon, delta values etc.\n",
        "5. To speed up data collection, avoid using np.concatenate(), np.stack() or np.append() like functions on your X and Y arrays. Instead, initialize X and Y arrays with all zeros using the correct shape and then fill in the values one by one. This is much faster in numpy. Using Ray is optional"
      ]
    },
    {
      "cell_type": "markdown",
      "source": [
        "# Other Requirements and Hints\n",
        "\n",
        "Time Limit\n",
        "*   MPC evaluation (Part 1): 30 minutes\n",
        "*   Learned Forward Model (Part 2): Less than a hundred epochs of training (<= 25 mins) should suffice for achieving the full points. Again, the shorter your model training time is the better.\n",
        "*   Data Collection with MPC (Part 3): 1 hour 20 minutes\n",
        "*   Training the forward dynamics model (Part 3): 40 minutes\n",
        "\n",
        "Note: Time limits are general guidelines. While your code must run within the allotted time, you should be able to achieve full score with a much shorter runtime\n",
        "\n",
        "\n",
        "Hints and Suggestions:\n",
        "1. Choosing the right policy to collect datasets for this project (parts 2 and 3) is important. You need to think about how to do it properly so that your trained model will pass the tests successfully. It is in general very hard to learn the ground truth forward dynamics completely (that works for any distribution of actions), and during testing small errors can accumulate, leading to drastic failure in the end. You might want to try overfitting on the test cases to begin with.\n",
        "2. Make sure that your dataset for part 2 is less than 100 Mb, which is pretty much sufficient for achieving full marks. Collecting datasets can be time-consuming and you could parallelize this process for some speed-up using [ray](https://www.ray.io/). Make sure your data collection in part 2 takes <= 25 mins.\n",
        "3. You can use your MPC Controller in your data collection for part 3 to gather better training samples\n",
        "4. A good cost function to evaluate your trajectory in MPC is very important and you can use both distance and velocity metrics to define the cost function.\n",
        "5. As mentioned in the lecture, a constant torque with pseudo gradients seems to work well for this project. You can also use multiple delta values to gather more trajectories to choose from.\n",
        "6. Since we are passing the MPC object to the controller you can instantiate the MPC class with different parameters like the planning horizon, delta values etc.\n",
        "7. To speed up data collection, avoid using np.concatenate(), np.stack() or np.append() like functions on your X and Y arrays. Instead, initialize X and Y arrays with all zeros using the correct shape and then fill in the values one by one. This is much faster in numpy. Using Ray is optional\n",
        "8. You may reuse your part 2 model for part 3, but it may be beneficial to re-collect data to train a model specific to part 3.\n",
        "\n",
        "General Tips and Requirements\n",
        "- NO GPU: No GPU is required or allowed for this assignment and we will test your code without GPUs.\n",
        "- Loss Function: This is essentially a regression problem so think about what losses are suitable for regression.\n",
        "- Optimizer: While it is possible to use a simple optimizer to achieve the desired accuracy, the training time can be quite high. There exists a number of optimizers implemented in PyTorch that have much faster convergence.\n",
        "- Seeding. Please use seeding in your code to make sure your results are reproducible."
      ],
      "metadata": {
        "id": "laN6cP-xyetF"
      }
    }
  ],
  "metadata": {
    "colab": {
      "provenance": [],
      "include_colab_link": true
    },
    "kernelspec": {
      "display_name": "Python 3",
      "name": "python3"
    },
    "language_info": {
      "name": "python"
    }
  },
  "nbformat": 4,
  "nbformat_minor": 0
}